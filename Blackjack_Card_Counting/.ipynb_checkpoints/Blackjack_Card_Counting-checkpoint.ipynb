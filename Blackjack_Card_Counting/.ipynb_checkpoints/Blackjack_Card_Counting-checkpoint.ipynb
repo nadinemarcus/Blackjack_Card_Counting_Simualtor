{
 "cells": [
  {
   "cell_type": "code",
   "execution_count": 1,
   "id": "4ecb2e71",
   "metadata": {},
   "outputs": [
    {
     "ename": "ImportError",
     "evalue": "cannot import name 'Blackjack' from 'blackjack' (unknown location)",
     "output_type": "error",
     "traceback": [
      "\u001b[1;31m---------------------------------------------------------------------------\u001b[0m",
      "\u001b[1;31mImportError\u001b[0m                               Traceback (most recent call last)",
      "Cell \u001b[1;32mIn[1], line 1\u001b[0m\n\u001b[1;32m----> 1\u001b[0m \u001b[38;5;28;01mfrom\u001b[39;00m \u001b[38;5;21;01mblackjack\u001b[39;00m \u001b[38;5;28;01mimport\u001b[39;00m Blackjack\n\u001b[0;32m      3\u001b[0m blackjack \u001b[38;5;241m=\u001b[39m Blackjack(\n\u001b[0;32m      4\u001b[0m     min_bet\u001b[38;5;241m=\u001b[39m\u001b[38;5;241m10\u001b[39m,\n\u001b[0;32m      5\u001b[0m     max_bet\u001b[38;5;241m=\u001b[39m\u001b[38;5;241m500\u001b[39m,\n\u001b[1;32m   (...)\u001b[0m\n\u001b[0;32m     15\u001b[0m     dealer_shows_hole_card\u001b[38;5;241m=\u001b[39m\u001b[38;5;28;01mFalse\u001b[39;00m\n\u001b[0;32m     16\u001b[0m )\n",
      "\u001b[1;31mImportError\u001b[0m: cannot import name 'Blackjack' from 'blackjack' (unknown location)"
     ]
    }
   ],
   "source": [
    "from blackjack import Blackjack\n",
    "\n",
    "blackjack = Blackjack(\n",
    "    min_bet=10,\n",
    "    max_bet=500,\n",
    "    s17=True,\n",
    "    blackjack_payout=1.5,\n",
    "    max_hands=4,\n",
    "    double_down=True,\n",
    "    split_unlike_tens=False,\n",
    "    double_after_split=False,\n",
    "    resplit_aces=False,\n",
    "    insurance=True,\n",
    "    late_surrender=True,\n",
    "    dealer_shows_hole_card=False\n",
    ")"
   ]
  },
  {
   "cell_type": "code",
   "execution_count": null,
   "id": "c5484b2f",
   "metadata": {},
   "outputs": [],
   "source": []
  }
 ],
 "metadata": {
  "kernelspec": {
   "display_name": "Python 3 (ipykernel)",
   "language": "python",
   "name": "python3"
  },
  "language_info": {
   "codemirror_mode": {
    "name": "ipython",
    "version": 3
   },
   "file_extension": ".py",
   "mimetype": "text/x-python",
   "name": "python",
   "nbconvert_exporter": "python",
   "pygments_lexer": "ipython3",
   "version": "3.11.4"
  }
 },
 "nbformat": 4,
 "nbformat_minor": 5
}
